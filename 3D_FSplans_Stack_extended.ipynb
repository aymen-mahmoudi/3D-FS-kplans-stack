{
 "cells": [
  {
   "cell_type": "code",
   "execution_count": null,
   "id": "c957d602",
   "metadata": {},
   "outputs": [],
   "source": [
    "%matplotlib widget\n",
    "from resources.FSplans import*\n",
    "from resources.FSplans_extended import*"
   ]
  },
  {
   "cell_type": "code",
   "execution_count": null,
   "id": "02c4aac5",
   "metadata": {},
   "outputs": [],
   "source": [
    "# Add the folder path (absolute or relative) and the names of your pictures files\n",
    "\n",
    "folder_path = r'resources/FS_samples'\n",
    "\n",
    "file_list = ['-0.8eV.jpg', \n",
    "             '-1.65eV.jpg',\n",
    "             '-3.0eV.jpg',\n",
    "             '-3.5eV.jpg'\n",
    "            ]\n",
    "\n",
    "\n",
    "N,img_list, eng_list = load(folder_path,file_list)"
   ]
  },
  {
   "cell_type": "code",
   "execution_count": null,
   "id": "87f2e517",
   "metadata": {},
   "outputs": [],
   "source": [
    "# Rotate and rescale your images (default values are 0 and 1) \n",
    "# To reset the pictures run again the previous cell\n",
    "angle = 0\n",
    "scale = 1\n",
    "\n",
    "\n",
    "# This command enable to preview the new settings of scale and rotation:\n",
    "\n",
    "rot_scale(img_list,file_list,N,angle,scale);"
   ]
  },
  {
   "cell_type": "code",
   "execution_count": null,
   "id": "ba38b73d",
   "metadata": {},
   "outputs": [],
   "source": [
    "# Set the confirm option to False until you are sure of the cropping limits\n",
    "image_num = 1\n",
    "# Crop positions :\n",
    "x_ini = 80\n",
    "x_fin = 600\n",
    "\n",
    "y_ini = 10\n",
    "y_fin = 700\n",
    "\n",
    "img_list = crop(x_ini,x_fin,y_ini,y_fin,N,img_list,image_num,confirm = True);"
   ]
  },
  {
   "cell_type": "code",
   "execution_count": null,
   "id": "87a2081c",
   "metadata": {},
   "outputs": [],
   "source": [
    "# Precise the k values\n",
    "kx_min = -1.0531052\n",
    "kx_max = 1.0531052\n",
    "ky_min = -1.307\n",
    "ky_max =  1.518\n",
    "\n",
    "\n",
    "xy_norm_list,image_list = adding_axis(kx_min,kx_max,ky_min,ky_max,N,img_list)"
   ]
  },
  {
   "cell_type": "code",
   "execution_count": null,
   "id": "e3390289",
   "metadata": {},
   "outputs": [],
   "source": [
    "fig_size = (8,12)\n",
    "box_aspect_ratio = (2.6,2,5)\n",
    "font = 'Times New Roman' # Arial\n",
    "quality_3D = 'low'    # low, medium, high, best\n",
    "resolution_3D = 600\n",
    "save_3D = True\n",
    "\n",
    "k_label_fontsize = 16\n",
    "E_label_fontsize = 16\n",
    "k_tick_size = 15\n",
    "x_y_tick_spacing = (.5,1)\n",
    "\n",
    "axis_thickness = 2\n",
    "grid_thickness = .2\n",
    "label_padding=(20,20,50)\n",
    "\n",
    "z_text_pos = (1,2)\n",
    "z_text_size = 20\n",
    "\n",
    "rotation = -45\n",
    "elevation = 21\n",
    "scale = False\n",
    "z_label_shift = 0.05\n",
    "\n",
    "kx_lim = [kx_min,kx_max]\n",
    "ky_lim = [ky_min,ky_max]\n",
    "\n",
    "\n",
    "\n",
    "plot_3D(folder_path,image_list,eng_list,N,xy_norm_list,fig_size,box_aspect_ratio,font,quality_3D,save_3D,resolution_3D,k_label_fontsize,E_label_fontsize,grid_thickness,axis_thickness,kx_min,kx_max,ky_min,ky_max,elevation,rotation,x_y_tick_spacing,k_tick_size,label_padding,z_text_pos,z_text_size,z_label_shift,scale,kx_lim,ky_lim)"
   ]
  }
 ],
 "metadata": {
  "kernelspec": {
   "display_name": "Python 3",
   "language": "python",
   "name": "python3"
  },
  "language_info": {
   "codemirror_mode": {
    "name": "ipython",
    "version": 3
   },
   "file_extension": ".py",
   "mimetype": "text/x-python",
   "name": "python",
   "nbconvert_exporter": "python",
   "pygments_lexer": "ipython3",
   "version": "3.8.8"
  }
 },
 "nbformat": 4,
 "nbformat_minor": 5
}
